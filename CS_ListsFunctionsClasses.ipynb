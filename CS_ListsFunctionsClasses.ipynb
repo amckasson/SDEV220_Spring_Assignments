{
 "cells": [
  {
   "cell_type": "code",
   "execution_count": null,
   "id": "6782b991-5050-47db-9f28-ea2f4e16d459",
   "metadata": {},
   "outputs": [],
   "source": [
    "# Andrew McKasson\n",
    "# M03 Lab - Case Study: Lists, Functions, and Classes\n",
    "# April 8, 2024"
   ]
  },
  {
   "cell_type": "code",
   "execution_count": null,
   "id": "285c33f2-4bf0-444f-b709-03bcba76e2cd",
   "metadata": {},
   "outputs": [],
   "source": []
  },
  {
   "cell_type": "code",
   "execution_count": 11,
   "id": "ef4d36ca-6881-4e7c-9207-ce09574d261f",
   "metadata": {},
   "outputs": [
    {
     "name": "stdin",
     "output_type": "stream",
     "text": [
      "Enter the type of vehicle (car, truck, plane, boat, broomstick):  car\n",
      "Enter the year of the vehicle:  2000\n",
      "Enter the make:  Kia\n",
      "Enter the model:  Telluride\n",
      "Enter the number of doors (2 or 4):  4\n",
      "Enter the type of roof (solid or sun roof):  sun roof\n"
     ]
    },
    {
     "name": "stdout",
     "output_type": "stream",
     "text": [
      "\n",
      "Vehicle type: car\n",
      "Year: 2000\n",
      "Make: Kia\n",
      "Model: Telluride\n",
      "Number of doors: 4\n",
      "Type of roof: sun roof\n"
     ]
    }
   ],
   "source": [
    "class Vehicle: #creating a Vehicle class (its the superclass)\n",
    "    vehicle_types = [\"car\", \"truck\", \"plane\", \"boat\", \"broomstick\"] #creating a list of vehicle types\n",
    "\n",
    "    def __init__(self, vehicle_type): #initilizing vehicle_type attributes\n",
    "        self.vehicle_type = vehicle_type\n",
    "\n",
    "class Automobile(Vehicle):  #creating a subclass Automobile that inherits from the Vehicle class\n",
    "    def __init__(self, vehicle_type, year, make, model, doors, roof): #initilizing the attributes\n",
    "        super().__init__(vehicle_type)\n",
    "        self.year = year\n",
    "        self.make = make\n",
    "        self.model = model\n",
    "        self.doors = doors\n",
    "        self.roof = roof\n",
    "\n",
    "def create():  #making a create function that takes user input for the program\n",
    "    \n",
    "    vehicle_type = input(\"Enter the type of vehicle (car, truck, plane, boat, broomstick): \")\n",
    "    year = input(\"Enter the year of the vehicle: \")\n",
    "    make = input(\"Enter the make: \")\n",
    "    model = input(\"Enter the model: \")\n",
    "    doors = input(\"Enter the number of doors (2 or 4): \")\n",
    "    roof = input(\"Enter the type of roof (solid or sun roof): \")\n",
    "\n",
    "    vehicle = Automobile(vehicle_type, year, make, model, doors, roof) #creating an instance of the Automobile class\n",
    "\n",
    "    print(\"\\nVehicle type:\", vehicle.vehicle_type) #printing the results\n",
    "    print(\"Year:\", vehicle.year)\n",
    "    print(\"Make:\", vehicle.make)\n",
    "    print(\"Model:\", vehicle.model)\n",
    "    print(\"Number of doors:\", vehicle.doors)\n",
    "    print(\"Type of roof:\", vehicle.roof)\n",
    "\n",
    "create()\n"
   ]
  },
  {
   "cell_type": "code",
   "execution_count": null,
   "id": "992b7ae2-1ef2-4519-be19-6d45fc1f464c",
   "metadata": {},
   "outputs": [],
   "source": []
  }
 ],
 "metadata": {
  "kernelspec": {
   "display_name": "Python 3 (ipykernel)",
   "language": "python",
   "name": "python3"
  },
  "language_info": {
   "codemirror_mode": {
    "name": "ipython",
    "version": 3
   },
   "file_extension": ".py",
   "mimetype": "text/x-python",
   "name": "python",
   "nbconvert_exporter": "python",
   "pygments_lexer": "ipython3",
   "version": "3.11.7"
  }
 },
 "nbformat": 4,
 "nbformat_minor": 5
}
