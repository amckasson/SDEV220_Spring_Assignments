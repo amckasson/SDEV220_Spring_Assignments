{
 "cells": [
  {
   "cell_type": "markdown",
   "id": "d5aa6875-2f63-4d0b-859a-80c8f65a48f9",
   "metadata": {},
   "source": [
    "Andrew McKasson\n",
    "April 1, 2024\n",
    "M02 Loops and Conditionals"
   ]
  },
  {
   "cell_type": "markdown",
   "id": "2887b49c-9419-4fb0-b0bd-9ba7b918c762",
   "metadata": {},
   "source": [
    "4.1 Choose a number between 1 and 10 and assign it to the variable secret. Then, select another number between 1 and 10 and assign it to the variable guess. Next, write the conditional tests (if, else, and elif) to print the string 'too low' if guess is less than secret, 'too high' if greater than secret, and 'just right' if equal to secret."
   ]
  },
  {
   "cell_type": "code",
   "execution_count": 8,
   "id": "5149c5d7-6490-45a1-9b97-76d46e9e91c3",
   "metadata": {},
   "outputs": [
    {
     "name": "stdout",
     "output_type": "stream",
     "text": [
      "too low\n"
     ]
    }
   ],
   "source": [
    "#4.1\n",
    "secret = 8   #setting variable secret\n",
    "guess = 7    #setting guess variable to 7 (tested various numbers)\n",
    "if guess < secret:  #first condition if guess is less than secret \n",
    "    print(\"too low\")\n",
    "elif guess > secret:  #else if guess is larger than secret\n",
    "        print (\"too large\")\n",
    "else:  # only option left, if guess is not lower or not larger but equal its just right\n",
    "    print(\"just right\")"
   ]
  },
  {
   "cell_type": "markdown",
   "id": "9dc77ac7-7a39-4c76-b8c3-da84838772b0",
   "metadata": {},
   "source": [
    "4.2 Assign True or False to the variables small and green. Write some if/else statements to print which of these matches those choices: cherry, pea, watermelon, pumpkin."
   ]
  },
  {
   "cell_type": "code",
   "execution_count": 17,
   "id": "9a303c81-862f-47de-a28f-f62c7c9a2b6c",
   "metadata": {},
   "outputs": [
    {
     "name": "stdout",
     "output_type": "stream",
     "text": [
      "cherry is small but not green\n",
      "pea is small and green\n",
      "watermelon is not small but is green\n",
      "pumpkin is not small or green\n"
     ]
    }
   ],
   "source": [
    "#4.2\n",
    "small = True #setting variable small to True\n",
    "green = True #setting the variable green to true\n",
    "#under im creating a dictionary for all the foods and assigning them being either small or green\n",
    "foods = {\n",
    "    \"cherry\": (True, False),\n",
    "    \"pea\": (True, True),\n",
    "    \"watermelon\": (False, True),\n",
    "    \"pumpkin\": (False, False)\n",
    "}\n",
    "for food, (is_small, is_green) in foods.items(): #looks over each food in foods and uses booleans to see if_small or if_green applies\n",
    "    if is_small and is_green:  #if the food is small and green\n",
    "        print (food, \"is small and green\")\n",
    "    elif is_small and not is_green:  #else if food is small but is not green\n",
    "        print (food, \"is small but not green\")\n",
    "    elif not is_small and is_green: #else if food is not small but is green\n",
    "        print (food, \"is not small but is green\")\n",
    "    else:  #last option available food is not small or green\n",
    "        print (food, \"is not small or green\")"
   ]
  },
  {
   "cell_type": "markdown",
   "id": "55d88525-f683-445a-a512-b9bd1aa5087e",
   "metadata": {},
   "source": [
    "6.1 Use a for loop to print the values of the list [3, 2, 1, 0]."
   ]
  },
  {
   "cell_type": "code",
   "execution_count": 19,
   "id": "6f053091-813c-4967-aaa7-58142fb3b70c",
   "metadata": {},
   "outputs": [
    {
     "name": "stdout",
     "output_type": "stream",
     "text": [
      "3\n",
      "2\n",
      "1\n",
      "0\n"
     ]
    }
   ],
   "source": [
    "#6.1\n",
    "my_list = [3, 2, 1, 0] #creating the list\n",
    "for number in my_list: #creating a for loop to iterate over list\n",
    "    print(number) #printing values of the list"
   ]
  },
  {
   "cell_type": "markdown",
   "id": "eab99654-1cc3-4f88-adf8-ce6961f52854",
   "metadata": {},
   "source": [
    "6.2 Assign the value 7 to the variable guess_me, and the value 1 to the variable number. Write a while loop that compares number with guess_me. Print 'too low' if number is less than guess me. If number equals guess_me, print 'found it!' and then exit the loop. If number is greater than guess_me, print 'oops' and then exit the loop. Increment number at the end of the loop."
   ]
  },
  {
   "cell_type": "code",
   "execution_count": 33,
   "id": "aa142779-cc93-4663-ae1d-34a1e79a2b32",
   "metadata": {},
   "outputs": [
    {
     "name": "stdout",
     "output_type": "stream",
     "text": [
      "1 too low\n",
      "2 too low\n",
      "3 too low\n",
      "4 too low\n",
      "5 too low\n",
      "6 too low\n",
      "7 found it!\n",
      "oops\n"
     ]
    }
   ],
   "source": [
    "#6.2\n",
    "guess_me = 7 #setting variable to 7\n",
    "number = 1 #setting starting number variable to 1\n",
    "while number <= guess_me:  #while number is less than or equal \n",
    "    if number < guess_me:  # if number is less than guess me print too low\n",
    "        print (number, \"too low\")\n",
    "    elif number == guess_me: #if number is equal to guess_me print found it and exit loop\n",
    "        print (number, \"found it!\")\n",
    "    number += 1  #increasing the value of number while going through the loop\n",
    "else:  #printing oops if condition has been met \n",
    "    print(\"oops\")\n"
   ]
  },
  {
   "cell_type": "markdown",
   "id": "124bd2fe-6d03-4f99-8cb6-e023b64aa2dc",
   "metadata": {},
   "source": [
    "6.3 Assign the value 5 to the variable guess_me. Use a for loop to iterate a variable called number over range(10). If number is less than guess_me, print 'too low'. If it equals guess_me, print found it! and then break out of the for loop. If number is greater than guess_me, print 'oops' and then exit the loop."
   ]
  },
  {
   "cell_type": "code",
   "execution_count": 36,
   "id": "f6a1ac4e-ee40-4d15-89ea-a9a5a70195f6",
   "metadata": {},
   "outputs": [
    {
     "name": "stdout",
     "output_type": "stream",
     "text": [
      "0 too low\n",
      "1 too low\n",
      "2 too low\n",
      "3 too low\n",
      "4 too low\n",
      "5 found it!\n",
      "oops\n"
     ]
    }
   ],
   "source": [
    "#6.3\n",
    "guess_me = 5 #setting guess_me variable to 5\n",
    "for number in range(10):  #setting range to 10 in for loop and going through with number to get results\n",
    "    if number < guess_me:  #if number is less than guess_me \n",
    "        print(number, \"too low\")\n",
    "    elif number == guess_me: #when number is equal to guess_me\n",
    "        print(number, \"found it!\")\n",
    "    else: #when number is greater than guess_me it prints oops and ends iteration\n",
    "        print(\"oops\") \n",
    "        break"
   ]
  },
  {
   "cell_type": "code",
   "execution_count": null,
   "id": "e30ddfbc-318f-4c8e-bc98-84d9e61023e9",
   "metadata": {},
   "outputs": [],
   "source": []
  }
 ],
 "metadata": {
  "kernelspec": {
   "display_name": "Python 3 (ipykernel)",
   "language": "python",
   "name": "python3"
  },
  "language_info": {
   "codemirror_mode": {
    "name": "ipython",
    "version": 3
   },
   "file_extension": ".py",
   "mimetype": "text/x-python",
   "name": "python",
   "nbconvert_exporter": "python",
   "pygments_lexer": "ipython3",
   "version": "3.11.7"
  }
 },
 "nbformat": 4,
 "nbformat_minor": 5
}
