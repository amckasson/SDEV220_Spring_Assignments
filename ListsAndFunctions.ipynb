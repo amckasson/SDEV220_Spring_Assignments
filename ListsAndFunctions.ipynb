{
 "cells": [
  {
   "cell_type": "markdown",
   "id": "f20bb183-94fe-4a24-b373-c85b18e8d77c",
   "metadata": {},
   "source": [
    "Andrew McKasson\n",
    "M03 Programming Assignment - Lists and Functions\n",
    "April 8th, 2024"
   ]
  },
  {
   "cell_type": "markdown",
   "id": "39a68dbe-6e3f-4e8b-bb7f-e76d816913dd",
   "metadata": {},
   "source": [
    "7.4 Make a list called things with these three strings as elements: \"mozzarella\", \"cinderella\", \"salmonella\"."
   ]
  },
  {
   "cell_type": "code",
   "execution_count": 1,
   "id": "c42643f9-287a-4a08-aed8-57f61e855691",
   "metadata": {},
   "outputs": [],
   "source": [
    "things = [\"mozzarella\", \"cinderella\", \"salmonella\"]   #created a list of things"
   ]
  },
  {
   "cell_type": "markdown",
   "id": "d4ab85f7-9e2d-4f69-8c2f-52969712dea1",
   "metadata": {},
   "source": [
    "7.5 Capitalize the element in things that refers to a person and then print the list. Did it change the element in the list?"
   ]
  },
  {
   "cell_type": "code",
   "execution_count": 2,
   "id": "d8b3f9aa-723e-43c5-a2f7-035fd95621b0",
   "metadata": {},
   "outputs": [
    {
     "name": "stdout",
     "output_type": "stream",
     "text": [
      "['mozzarella', 'Cinderella', 'salmonella']\n"
     ]
    }
   ],
   "source": [
    "things = [\"mozzarella\", \"cinderella\", \"salmonella\"] \n",
    "things[1] = things[1].capitalize() #targeting the person element in the list and using Capitalize to make it have a capital letter\n",
    "print(things) #printing list to show results"
   ]
  },
  {
   "cell_type": "markdown",
   "id": "14d54e94-7e9d-48e1-9af0-25f37314a2aa",
   "metadata": {},
   "source": [
    "7.5 answer: Yes the list was modified to capitalize Cinderella when printed."
   ]
  },
  {
   "cell_type": "markdown",
   "id": "ff337bea-e0d5-47e7-84f8-36a8cda334ae",
   "metadata": {},
   "source": [
    "7.6 Make the cheesy element of things all uppercase and then print the list."
   ]
  },
  {
   "cell_type": "code",
   "execution_count": 3,
   "id": "1f859166-4753-46fc-882f-cf1a74d4e85e",
   "metadata": {},
   "outputs": [
    {
     "name": "stdout",
     "output_type": "stream",
     "text": [
      "MOZZARELLA\n"
     ]
    }
   ],
   "source": [
    "things = [\"mozzarella\", \"cinderella\", \"salmonella\"] #creating a list\n",
    "things = things[0].upper() #targeting the cheese elements in list and using upper to make it all capital letters\n",
    "print(things) #printing the results\n"
   ]
  },
  {
   "cell_type": "markdown",
   "id": "31616ea7-9f82-40d4-81da-61960c4295a2",
   "metadata": {},
   "source": [
    "7.7 Delete the disease element from things, collect your Nobel Prize, and print the list."
   ]
  },
  {
   "cell_type": "code",
   "execution_count": 6,
   "id": "5b228569-9d26-47a5-a90f-068b53021f3d",
   "metadata": {},
   "outputs": [
    {
     "name": "stdout",
     "output_type": "stream",
     "text": [
      "['mozzarella', 'cinderella']\n"
     ]
    }
   ],
   "source": [
    "things = [\"mozzarella\", \"cinderella\", \"salmonella\"] #creating a list of things\n",
    "things.remove(\"salmonella\") #using remove to remove the disease element from the list\n",
    "print(things) #pringting the results"
   ]
  },
  {
   "cell_type": "markdown",
   "id": "ac43a547-da35-445e-9f0e-d1a2cc371dab",
   "metadata": {},
   "source": [
    "9.1 Define a function called good() that returns the following list: ['Harry', 'Ron', 'Hermione'].\r\n",
    "\r\n"
   ]
  },
  {
   "cell_type": "code",
   "execution_count": 11,
   "id": "ba5adb6b-94c8-4295-b963-d402657eaa66",
   "metadata": {},
   "outputs": [
    {
     "data": {
      "text/plain": [
       "['Harry', 'Ron', 'Hermione']"
      ]
     },
     "execution_count": 11,
     "metadata": {},
     "output_type": "execute_result"
    }
   ],
   "source": [
    "def good():  #creating the function good\n",
    "    return [\"Harry\", \"Ron\", \"Hermione\"]  #making a list of characters in the function and using return\n",
    "good()   #calling the function"
   ]
  },
  {
   "cell_type": "markdown",
   "id": "cf06ecaf-2f18-4d28-846f-d42116f4b573",
   "metadata": {},
   "source": [
    "9.2 Define a generator function called get_odds() that returns the odd numbers from range(10). Use a for loop to find and print the third value returned."
   ]
  },
  {
   "cell_type": "code",
   "execution_count": 20,
   "id": "3266f71a-b2e0-4721-9cec-f8e8a463a73b",
   "metadata": {},
   "outputs": [
    {
     "name": "stdout",
     "output_type": "stream",
     "text": [
      "5\n"
     ]
    }
   ],
   "source": [
    "def get_odds():                    #creating the function\n",
    "    count = 0                      #setting count to 0 for loop iteration\n",
    "    for number in range(1,11):     #making the range of numbers starting at 1 and going to 10 using a for loop\n",
    "        if number % 2 != 0:        #if statement that checks that a number divided by 2 does not equal 0\n",
    "            count+= 1              #incrementing count\n",
    "            if count == 3:\n",
    "                print(number)\n",
    "get_odds()"
   ]
  },
  {
   "cell_type": "code",
   "execution_count": null,
   "id": "40eace31-6d70-42dd-93e4-3139023cb6e3",
   "metadata": {},
   "outputs": [],
   "source": []
  }
 ],
 "metadata": {
  "kernelspec": {
   "display_name": "Python 3 (ipykernel)",
   "language": "python",
   "name": "python3"
  },
  "language_info": {
   "codemirror_mode": {
    "name": "ipython",
    "version": 3
   },
   "file_extension": ".py",
   "mimetype": "text/x-python",
   "name": "python",
   "nbconvert_exporter": "python",
   "pygments_lexer": "ipython3",
   "version": "3.11.7"
  }
 },
 "nbformat": 4,
 "nbformat_minor": 5
}
