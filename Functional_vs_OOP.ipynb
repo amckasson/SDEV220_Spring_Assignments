{
 "cells": [
  {
   "cell_type": "code",
   "execution_count": null,
   "id": "00413567-3d82-40af-b4fe-85ddcc27d062",
   "metadata": {},
   "outputs": [],
   "source": [
    "# Andrew Mckasson\n",
    "# Functional vs OOP programing\n",
    "# April 8, 2024"
   ]
  },
  {
   "cell_type": "markdown",
   "id": "0249bde8-f895-44ae-9a90-1ddb49ccd0e8",
   "metadata": {},
   "source": [
    "I did not really understand this problem.  If we could go over it in class that would be helpful.  I'm not sure I would have been able to figure it out."
   ]
  },
  {
   "cell_type": "code",
   "execution_count": null,
   "id": "daf53875-3bf6-4dae-a467-c2421e8b2df0",
   "metadata": {},
   "outputs": [],
   "source": [
    "class Solution:\n",
    "    \n",
    "    def sort012(self,arr,n):\n",
    "        low=0\n",
    "        high=n-1\n",
    "        mid=0\n",
    "        \n",
    "        while mid<=high:\n",
    "            \n",
    "            if arr[mid]==0:\n",
    "                arr[mid] , arr[low] = arr[low] , arr[mid]\n",
    "                mid+=1\n",
    "                low+=1\n",
    "                \n",
    "            elif arr[mid]==1:\n",
    "                mid+=1\n",
    "                \n",
    "            else:\n",
    "                arr[mid] , arr[high] = arr[high] , arr[mid]\n",
    "                high-=1"
   ]
  },
  {
   "cell_type": "markdown",
   "id": "dd57264b-bcf8-4110-a2c8-4614f1af0b6d",
   "metadata": {},
   "source": [
    "I could not figure this code out either.  Are there any tips on how to complete segments like this?\n",
    "I fear im not at the level to be able to complete these."
   ]
  },
  {
   "cell_type": "code",
   "execution_count": 1,
   "id": "582a07af-e629-48b3-8221-6dab25acd780",
   "metadata": {},
   "outputs": [
    {
     "ename": "SyntaxError",
     "evalue": "unterminated string literal (detected at line 37) (813907306.py, line 37)",
     "output_type": "error",
     "traceback": [
      "\u001b[1;36m  Cell \u001b[1;32mIn[1], line 37\u001b[1;36m\u001b[0m\n\u001b[1;33m    print(\"Element is not present in array\") is not present in array\")\u001b[0m\n\u001b[1;37m                                                                    ^\u001b[0m\n\u001b[1;31mSyntaxError\u001b[0m\u001b[1;31m:\u001b[0m unterminated string literal (detected at line 37)\n"
     ]
    }
   ],
   "source": [
    "def binarySearch(arr, l, r, x):\n",
    "\n",
    "    # Check base case\n",
    "    if r >= l:\n",
    "\n",
    "        mid = l + (r - l) // 2\n",
    "\n",
    "        # If element is present at the middle itself\n",
    "        if arr[mid] == x:\n",
    "            return mid\n",
    "\n",
    "        # If element is smaller than mid, then it\n",
    "        # can only be present in left subarray\n",
    "        elif arr[mid] > x:\n",
    "            return binarySearch(arr, l, mid-1, x)\n",
    "\n",
    "        # Else the element can only be present\n",
    "        # in right subarray\n",
    "        else:\n",
    "            return binarySearch(arr, mid + 1, r, x)\n",
    "\n",
    "    else:\n",
    "        # Element is not present in the array\n",
    "        return -1\n",
    "\n",
    "\n",
    "# Driver Code\n",
    "arr = [2, 3, 4, 10, 40]\n",
    "x = 10\n",
    "\n",
    "# Function call\n",
    "result = binarySearch(arr, 0, len(arr)-1, x)\n",
    "\n",
    "if result != -1:\n",
    "    print(\"Element is present at index % d\" % result)\n",
    "else:\n",
    "    print(\"Element is not present in array\") is not present in array\")"
   ]
  },
  {
   "cell_type": "code",
   "execution_count": null,
   "id": "940d8fd9-8b56-43e4-a3ac-604d95331837",
   "metadata": {},
   "outputs": [],
   "source": []
  }
 ],
 "metadata": {
  "kernelspec": {
   "display_name": "Python 3 (ipykernel)",
   "language": "python",
   "name": "python3"
  },
  "language_info": {
   "codemirror_mode": {
    "name": "ipython",
    "version": 3
   },
   "file_extension": ".py",
   "mimetype": "text/x-python",
   "name": "python",
   "nbconvert_exporter": "python",
   "pygments_lexer": "ipython3",
   "version": "3.11.7"
  }
 },
 "nbformat": 4,
 "nbformat_minor": 5
}
