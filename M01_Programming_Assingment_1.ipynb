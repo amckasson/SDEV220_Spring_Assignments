{
 "cells": [
  {
   "cell_type": "markdown",
   "id": "803ca017-5340-4771-97af-8798b6c947f9",
   "metadata": {},
   "source": [
    "# Andrew McKasson\n",
    "# 3/22/24\n",
    "# M01 Programming Assignment - Numbers and Types"
   ]
  },
  {
   "cell_type": "markdown",
   "id": "b0596ba4-364b-4fd1-95e9-d0c820483202",
   "metadata": {},
   "source": [
    "3.1 How many seconds are in an hour? Use the interactive interpreter as a calculator and multiply the number of seconds in a minute (60) by the number of minutes in an hour (also 60)."
   ]
  },
  {
   "cell_type": "code",
   "execution_count": 3,
   "id": "52f239f6-d335-47b0-9bde-65b92c94dc03",
   "metadata": {},
   "outputs": [
    {
     "data": {
      "text/plain": [
       "3600"
      ]
     },
     "execution_count": 3,
     "metadata": {},
     "output_type": "execute_result"
    }
   ],
   "source": [
    "# 3.1 \n",
    "seconds = 60 #setting a variable for seconds\n",
    "hour = 60 #setting a variable for hour\n",
    "seconds_per_hour = seconds * hour #creating a variable for seconds__per_hour and saving the results from multiplying the other two variables\n",
    "seconds_per_hour #displaying the results"
   ]
  },
  {
   "cell_type": "markdown",
   "id": "18a1ce29-cd01-4196-a06d-de84a4e77005",
   "metadata": {},
   "source": [
    "3.2 Assign the result from the previous task (seconds in an hour) to a variable called seconds_per_hour."
   ]
  },
  {
   "cell_type": "code",
   "execution_count": null,
   "id": "fff67aa3-58ae-4a6a-af7b-b7a16d8b3261",
   "metadata": {},
   "outputs": [],
   "source": [
    "# 3.2\n",
    "seconds_per_hour = 3600 #assigning the results to a variable"
   ]
  },
  {
   "cell_type": "markdown",
   "id": "adfd4c75-5d9b-4cd3-9091-7d8f84257cb6",
   "metadata": {},
   "source": [
    "3.3 How many seconds are in a day? Use your seconds_per_hour variable."
   ]
  },
  {
   "cell_type": "code",
   "execution_count": 5,
   "id": "2ea62129-f7e7-4e32-ab99-7227c9457568",
   "metadata": {},
   "outputs": [
    {
     "data": {
      "text/plain": [
       "86400"
      ]
     },
     "execution_count": 5,
     "metadata": {},
     "output_type": "execute_result"
    }
   ],
   "source": [
    "# 3.3\n",
    "day_hour = 24 #creating a variable for hours in the day\n",
    "day_hour * seconds_per_hour #multiplying the day_hour variable with the seconds_per_hour from 3.2"
   ]
  },
  {
   "cell_type": "markdown",
   "id": "0025bfbe-71d9-44c4-83e6-25fda9488296",
   "metadata": {},
   "source": [
    "3.4 Calculate seconds per day again, but this time save the result in a variable called seconds_per_day."
   ]
  },
  {
   "cell_type": "code",
   "execution_count": 6,
   "id": "d8b8e6d7-5408-4db2-bb3a-d33c8cf75236",
   "metadata": {},
   "outputs": [],
   "source": [
    "# 3.4\n",
    "day_hour = 24\n",
    "seconds_per_day = day_hour * seconds_per_hour # creating variable seconds_per_day and storing results of question"
   ]
  },
  {
   "cell_type": "markdown",
   "id": "3da8a76a-5c4f-4c29-8248-2b6907f7d3c0",
   "metadata": {},
   "source": [
    "3.5 Divide seconds_per_day by seconds_per_hour. Use floating-point (/) division."
   ]
  },
  {
   "cell_type": "code",
   "execution_count": 7,
   "id": "8a838a68-dac2-4a19-8235-5d8adaa234a9",
   "metadata": {},
   "outputs": [
    {
     "data": {
      "text/plain": [
       "24.0"
      ]
     },
     "execution_count": 7,
     "metadata": {},
     "output_type": "execute_result"
    }
   ],
   "source": [
    "# 3.5\n",
    "seconds_per_day / seconds_per_hour #creating a float by dividing seconds_per_day and seconds_per_hour"
   ]
  },
  {
   "cell_type": "markdown",
   "id": "27002855-ec86-4a7a-9505-e63e0b7f7f17",
   "metadata": {},
   "source": [
    "3.6 Divide seconds_per_day by seconds_per_hour, using integer (//) division. Did this number agree with the floating-point value from the previous question, aside from the final .0?"
   ]
  },
  {
   "cell_type": "code",
   "execution_count": 8,
   "id": "89af6928-5224-473d-a372-0437c2c5e6e5",
   "metadata": {},
   "outputs": [
    {
     "data": {
      "text/plain": [
       "24"
      ]
     },
     "execution_count": 8,
     "metadata": {},
     "output_type": "execute_result"
    }
   ],
   "source": [
    "# 3.6\n",
    "seconds_per_day // seconds_per_hour # testing the result of 3.5 but with an int value"
   ]
  },
  {
   "cell_type": "code",
   "execution_count": null,
   "id": "978b0938-5a7d-466c-8660-4599991394ef",
   "metadata": {},
   "outputs": [],
   "source": [
    "# Yes it aggrees with the previous number"
   ]
  }
 ],
 "metadata": {
  "kernelspec": {
   "display_name": "Python 3 (ipykernel)",
   "language": "python",
   "name": "python3"
  },
  "language_info": {
   "codemirror_mode": {
    "name": "ipython",
    "version": 3
   },
   "file_extension": ".py",
   "mimetype": "text/x-python",
   "name": "python",
   "nbconvert_exporter": "python",
   "pygments_lexer": "ipython3",
   "version": "3.11.7"
  }
 },
 "nbformat": 4,
 "nbformat_minor": 5
}
