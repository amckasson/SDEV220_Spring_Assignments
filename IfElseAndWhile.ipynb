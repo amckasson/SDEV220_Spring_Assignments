{
 "cells": [
  {
   "cell_type": "markdown",
   "id": "043351d6-a08d-4e29-a2e0-829836008977",
   "metadata": {},
   "source": [
    "Andrew McKasson\n",
    "April 1, 2024\n",
    "M02 Lab - Case Study: if...else and while"
   ]
  },
  {
   "cell_type": "code",
   "execution_count": 10,
   "id": "001010af-ec86-40d9-9dab-7e64754e62fb",
   "metadata": {},
   "outputs": [
    {
     "name": "stdin",
     "output_type": "stream",
     "text": [
      "Enter the student's last name (or enter 'ZZZ' to exit):  Andrew\n",
      "Enter student's first name:  Jones\n",
      "Enter student's GPA:  3.5\n"
     ]
    },
    {
     "name": "stdout",
     "output_type": "stream",
     "text": [
      "Jones Andrew has made the Dean's List.\n",
      "\n"
     ]
    },
    {
     "name": "stdin",
     "output_type": "stream",
     "text": [
      "Enter the student's last name (or enter 'ZZZ' to exit):  Cam\n",
      "Enter student's first name:  Smith\n",
      "Enter student's GPA:  3\n"
     ]
    },
    {
     "name": "stdout",
     "output_type": "stream",
     "text": [
      "\n"
     ]
    },
    {
     "name": "stdin",
     "output_type": "stream",
     "text": [
      "Enter the student's last name (or enter 'ZZZ' to exit):  Candice \n",
      "Enter student's first name:  Tunny\n",
      "Enter student's GPA:  3.35\n"
     ]
    },
    {
     "name": "stdout",
     "output_type": "stream",
     "text": [
      "Tunny Candice  has made the Honor Roll.\n",
      "\n"
     ]
    },
    {
     "name": "stdin",
     "output_type": "stream",
     "text": [
      "Enter the student's last name (or enter 'ZZZ' to exit):  Jim\n",
      "Enter student's first name:  Finch\n",
      "Enter student's GPA:  4.0\n"
     ]
    },
    {
     "name": "stdout",
     "output_type": "stream",
     "text": [
      "Finch Jim has made the Dean's List.\n",
      "\n"
     ]
    },
    {
     "name": "stdin",
     "output_type": "stream",
     "text": [
      "Enter the student's last name (or enter 'ZZZ' to exit):  Raven\n",
      "Enter student's first name:  Black\n",
      "Enter student's GPA:  3.4\n"
     ]
    },
    {
     "name": "stdout",
     "output_type": "stream",
     "text": [
      "Black Raven has made the Honor Roll.\n",
      "\n"
     ]
    },
    {
     "name": "stdin",
     "output_type": "stream",
     "text": [
      "Enter the student's last name (or enter 'ZZZ' to exit):  ZZZ\n"
     ]
    }
   ],
   "source": [
    "while True: # setting a while loop so program runs until its break statement is entered\n",
    "    last_name = input(\"Enter the student's last name (or enter 'ZZZ' to exit): \") #asking user to input Last name and giving break statement\n",
    "    if last_name == \"ZZZ\": #if ZZZ was entered the program ends\n",
    "        break\n",
    "    first_name = input(\"Enter student's first name: \") #Asking for students first name\n",
    "    gpa = float(input(\"Enter student's GPA: \")) #asking for students GPA as a float\n",
    "    if gpa >= 3.5: # checking if GPA is greater or equal than 3.5 to qualify for Deans list\n",
    "        print(\"{} {} has made the Dean's List.\\n\".format(first_name, last_name)) #prints if qualifies then makes a new line to space entries\n",
    "    elif gpa >= 3.25:  #checking if GPA is greater or equal to 3.25 to see if student qualifies for Honor Roll\n",
    "        print(\"{} {} has made the Honor Roll.\\n\".format(first_name, last_name)) #printing if student made Honor Roll then makes a new line to space entries\n",
    "    else: \n",
    "        print(\"\") #if student made neither I still wanted a line break so I included and empty string otherwise the program doesnt include line break\n",
    "    "
   ]
  },
  {
   "cell_type": "code",
   "execution_count": null,
   "id": "4f4b9550-c583-43d1-9efb-ce30b0483c14",
   "metadata": {},
   "outputs": [],
   "source": []
  }
 ],
 "metadata": {
  "kernelspec": {
   "display_name": "Python 3 (ipykernel)",
   "language": "python",
   "name": "python3"
  },
  "language_info": {
   "codemirror_mode": {
    "name": "ipython",
    "version": 3
   },
   "file_extension": ".py",
   "mimetype": "text/x-python",
   "name": "python",
   "nbconvert_exporter": "python",
   "pygments_lexer": "ipython3",
   "version": "3.11.7"
  }
 },
 "nbformat": 4,
 "nbformat_minor": 5
}
